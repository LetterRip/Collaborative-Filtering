{
 "cells": [
  {
   "cell_type": "code",
   "execution_count": 545,
   "metadata": {
    "collapsed": false
   },
   "outputs": [],
   "source": [
    "import numpy as np\n",
    "\n",
    "num_user = 943\n",
    "num_movie = 1682\n",
    "# num_ratings = 100000\n",
    "all_mean = 0\n",
    "# user_mean = np.zeros(num_user,dtype=int)\n",
    "# movie_mean = np.zeros(num_movie,dtype=int)\n",
    "\n",
    "def load_data(filename):\n",
    "    '''Load training data from dataset'''\n",
    "    f = open('dataset/ml-100k/' + filename, 'rt')\n",
    "    t = 0\n",
    "    ratings = np.zeros((num_user, num_movie), dtype=int).reshape(num_user, num_movie)\n",
    "    for line in f.readlines():\n",
    "        user, movie, rating = [int(x) for x in line.split()[:3]]\n",
    "        if t % 10000 == 0:\n",
    "            print('Loading %6d case: ' % t, user, movie, rating)\n",
    "        ratings[user - 1, movie - 1] = rating\n",
    "        t += 1\n",
    "    print('Loading complete.')\n",
    "    print(np.size(ratings))\n",
    "    return ratings\n",
    "    "
   ]
  },
  {
   "cell_type": "code",
   "execution_count": 546,
   "metadata": {
    "collapsed": false
   },
   "outputs": [],
   "source": [
    "def cal_mean():\n",
    "    '''Calculate mean value'''\n",
    "    global all_mean, user_mean, movie_mean\n",
    "    all_mean = np.mean(ratings[ratings!=0])\n",
    "    # Attention! It may cause 0/0 = nan!!\n",
    "    user_mean = sum(ratings.T) / sum((ratings!=0).T)\n",
    "    movie_mean = sum(ratings) / sum((ratings!=0))\n",
    "    print('Mean rating of all movies is ', round(all_mean,2))"
   ]
  },
  {
   "cell_type": "code",
   "execution_count": 547,
   "metadata": {
    "collapsed": false
   },
   "outputs": [],
   "source": [
    "def predict_naive(user_id, movie_id):\n",
    "    '''Naive predict method'''\n",
    "    if np.isnan(movie_mean[movie_id]):\n",
    "        prediction = round(user_mean[user_id]);\n",
    "    else:\n",
    "        prediction = round(movie_mean[movie_id] + user_mean[user_id] - all_mean, 2)\n",
    "    return prediction"
   ]
  },
  {
   "cell_type": "code",
   "execution_count": 548,
   "metadata": {
    "collapsed": false
   },
   "outputs": [],
   "source": [
    "def rmse(predictions, targets):\n",
    "    return np.sum(np.square(predictions-targets))/np.size(predictions)"
   ]
  },
  {
   "cell_type": "code",
   "execution_count": 549,
   "metadata": {
    "collapsed": false
   },
   "outputs": [],
   "source": [
    "def test(filename):\n",
    "    global predictions, targets\n",
    "    f = open('dataset/ml-100k/' + filename, 'rt')\n",
    "    predictions = []\n",
    "    targets = []\n",
    "    for line in f.readlines():\n",
    "        user, movie, real_rating = [int(x) for x in line.split()[:3]]\n",
    "        guess_rating = predict_naive(user-1, movie-1)\n",
    "        predictions.append(guess_rating)\n",
    "        targets.append(real_rating)\n",
    "    predictions = np.array(predictions,dtype=np.double)\n",
    "    targets = np.array(targets,dtype=np.double)\n",
    "    loss = rmse(predictions, targets)\n",
    "    print('Loss = ', round(loss,2))"
   ]
  },
  {
   "cell_type": "code",
   "execution_count": 550,
   "metadata": {
    "collapsed": false
   },
   "outputs": [
    {
     "name": "stdout",
     "output_type": "stream",
     "text": [
      "Loading      0 case:  1 1 5\n",
      "Loading  10000 case:  189 207 5\n",
      "Loading  20000 case:  334 689 3\n",
      "Loading  30000 case:  445 895 2\n",
      "Loading  40000 case:  535 42 3\n",
      "Loading  50000 case:  642 66 5\n",
      "Loading  60000 case:  744 657 5\n",
      "Loading  70000 case:  849 121 5\n",
      "Loading complete.\n",
      "1586126\n",
      "Mean rating of all movies is  3.53\n",
      "Loss =  0.96\n"
     ]
    }
   ],
   "source": [
    "ratings = load_data('u1.base')\n",
    "# all_ratings = load_data('u.data')\n",
    "cal_mean()\n",
    "test('u1.test')"
   ]
  },
  {
   "cell_type": "code",
   "execution_count": null,
   "metadata": {
    "collapsed": false
   },
   "outputs": [],
   "source": []
  }
 ],
 "metadata": {
  "kernelspec": {
   "display_name": "Python 3",
   "language": "python",
   "name": "python3"
  },
  "language_info": {
   "codemirror_mode": {
    "name": "ipython",
    "version": 3
   },
   "file_extension": ".py",
   "mimetype": "text/x-python",
   "name": "python",
   "nbconvert_exporter": "python",
   "pygments_lexer": "ipython3",
   "version": "3.4.0"
  }
 },
 "nbformat": 4,
 "nbformat_minor": 0
}
